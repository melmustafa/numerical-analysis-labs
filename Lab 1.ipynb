{
 "cells": [
  {
   "cell_type": "markdown",
   "id": "c226e3a2-ece8-4032-8e12-ee4d24ee250c",
   "metadata": {},
   "source": [
    "# Introduction to MATLAB\n",
    "MATLAB, which stands for Matrix Laboratory, is an integrated technical computing environment.\n",
    "\n",
    "It is used for:\n",
    "- Mathematics and computation.\n",
    "- Algorithm development and data analysis.\n",
    "- Graphing functions and solving equations.\n",
    "- Modelling and simulation."
   ]
  },
  {
   "cell_type": "markdown",
   "id": "fe3ed326-6b88-4939-98c6-d7c909607ae4",
   "metadata": {},
   "source": [
    "**Note**: for these interactive notes, we are using _**GNU Octave**_, which is an open source alternative to _**Matlab**_ (it is licensed)"
   ]
  },
  {
   "cell_type": "markdown",
   "id": "2e5d3a1d-cdd0-4a69-a4c4-a210d2c29804",
   "metadata": {},
   "source": [
    "## MATLAB Windows\n",
    "MATLAB has four main windows:\n",
    "\n",
    "- Command Window: The main area where you type commands and instructions to interact with MATLAB.\n",
    "- Command History: Contains a history of the commands you have entered, which helps in repeating, copying, or modifying previous commands.\n",
    "- Workspace Browser: Shows all the variables you have created during a session.\n",
    "- Current Directory Browser: Shows the files and folders in your current working directory, which is where new files are stored."
   ]
  },
  {
   "cell_type": "markdown",
   "id": "9abd2ffe-0e91-48f1-aaf1-10b00e6f30fc",
   "metadata": {},
   "source": [
    "## Input and Output\n",
    "- Input: You provide input by typing commands directly into the command window and pressing Enter.\n",
    "- Output: MATLAB returns output in two ways:\n",
    "  - Text or numerical output is shown in the command window.\n",
    "  - Graphical output appears in a separate graphics window."
   ]
  },
  {
   "cell_type": "markdown",
   "id": "e9e0b00f-2f9c-4bfc-8b93-96513c52e22b",
   "metadata": {},
   "source": [
    "## Getting Help\n",
    "\n",
    "- MATLAB Help Browser: You can open the built-in help browser by clicking the Help icon (question mark) on the Home tab or by typing `doc` in the command window.\n",
    "- Command Line Help: You can get quick help from the command window.\n",
    "  - `help function-name`: Provides a brief explanation of a function. For example, `help plot`. This command can run directly from inside the interacitve notes;\n",
    "  - `doc function-name`: Opens the detailed documentation for a function in the Help Browser. For example, `doc plot`. This command has to be run from Matlab itself and it will open a new window, which is why it can't be run here. You can try, but you will need to restart the kernel after."
   ]
  },
  {
   "cell_type": "code",
   "execution_count": 2,
   "id": "f4afafda-a50c-4f40-8311-da528b31f727",
   "metadata": {},
   "outputs": [
    {
     "name": "stdout",
     "output_type": "stream",
     "text": [
      "\u001b[?2004l\n",
      "help command\n",
      "\u001b[?2004h\u001b[?2004l\n",
      "'plot' is a function from the file /usr/share/octave/9.4.0/m/plot/draw/plot.m\n",
      "\n",
      " -- plot (Y)\n",
      " -- plot (X, Y)\n",
      " -- plot (X, Y, FMT)\n",
      " -- plot (..., PROPERTY, VALUE, ...)\n",
      " -- plot (X1, Y1, ..., XN, YN)\n",
      " -- plot (HAX, ...)\n",
      " -- H = plot (...)\n",
      "     Produce 2-D plots.\n",
      "\n",
      "     Many different combinations of arguments are possible.  The\n",
      "     simplest form is\n",
      "\n",
      "          plot (Y)\n",
      "\n",
      "     where the argument is taken as the set of Y coordinates and the X\n",
      "     coordinates are taken to be the range ‘1:numel (Y)’.\n",
      "\n",
      "     If more than one argument is given, they are interpreted as\n",
      "\n",
      "          plot (Y, PROPERTY, VALUE, ...)\n",
      "\n",
      "     or\n",
      "\n",
      "          plot (X, Y, PROPERTY, VALUE, ...)\n",
      "\n",
      "     or\n",
      "\n",
      "          plot (X, Y, FMT, ...)\n",
      "\n",
      "     and so on.  Any number of argument sets may appear.  The X and Y\n",
      "     values are interpreted as follows:\n",
      "\n",
      "        • If a single data argument is supplied, it is taken as the set\n",
      "          of Y coordinates and the X coordinates are taken to be the\n",
      "          indices of the elements, starting with 1.\n",
      "\n",
      "        • If X and Y are scalars, a single point is plotted.\n",
      "\n",
      "        • ‘squeeze()’ is applied to arguments with more than two\n",
      "          dimensions, but no more than two singleton dimensions.\n",
      "\n",
      "        • If either X or Y is a scalar and the other is a vector, a\n",
      "          series of points are plotted at the coordinates defined by the\n",
      "          scalar and each element of the vector.\n",
      "\n",
      "        • If both arguments are vectors, the elements of Y are plotted\n",
      "          versus the elements of X.\n",
      "\n",
      "        • If X is a vector and Y is a matrix, then the columns (or rows)\n",
      "          of Y are plotted versus X.  (using whichever combination\n",
      "          matches, with columns tried first.)\n",
      "\n",
      "        • If the X is a matrix and Y is a vector, Y is plotted versus\n",
      "          the columns (or rows) of X.  (using whichever combination\n",
      "          matches, with columns tried first.)\n",
      "\n",
      "        • If both arguments are matrices, the columns of Y are plotted\n",
      "          versus the columns of X.  In this case, both matrices must\n",
      "          have the same number of rows and columns and no attempt is\n",
      "          made to transpose the arguments to make the number of rows\n",
      "          match.\n",
      "\n",
      "     Multiple property-value pairs may be specified, but they must\n",
      "     appear in pairs.  These arguments are applied to the line objects\n",
      "     drawn by ‘plot’.  Useful properties to modify are \"linestyle\",\n",
      "     \"linewidth\", \"color\", \"marker\", \"markersize\", \"markeredgecolor\",\n",
      "     \"markerfacecolor\".  The full list of properties is documented at\n",
      "     Line Properties.\n",
      "\n",
      "     The FMT format argument can also be used to control the plot style.\n",
      "     It is a string composed of four optional parts:\n",
      "     \"<linestyle><marker><color><;displayname;>\".  When a marker is\n",
      "     specified, but no linestyle, only the markers are plotted.\n",
      "     Similarly, if a linestyle is specified, but no marker, then only\n",
      "     lines are drawn.  If both are specified then lines and markers will\n",
      "     be plotted.  If no FMT and no PROPERTY/VALUE pairs are given, then\n",
      "     the default plot style is solid lines with no markers and the color\n",
      "     determined by the \"colororder\" property of the current axes.\n",
      "\n",
      "     Format arguments:\n",
      "\n",
      "     linestyle\n",
      "\n",
      "          ‘-’  Use solid lines (default).\n",
      "          ‘--’ Use dashed lines.\n",
      "          ‘:’  Use dotted lines.\n",
      "          ‘-.’ Use dash-dotted lines.\n",
      "\n",
      "     marker\n",
      "\n",
      "          ‘+’  crosshair\n",
      "          ‘o’  circle\n",
      "          ‘*’  star\n",
      "          ‘.’  point\n",
      "          ‘x’  cross\n",
      "          ‘|’  vertical line\n",
      "          ‘_’  horizontal line\n",
      "          ‘s’  square\n",
      "          ‘d’  diamond\n",
      "          ‘^’  upward-facing triangle\n",
      "          ‘v’  downward-facing triangle\n",
      "          ‘>’  right-facing triangle\n",
      "          ‘<’  left-facing triangle\n",
      "          ‘p’  pentagram\n",
      "          ‘h’  hexagram\n",
      "\n",
      "     color\n",
      "\n",
      "          ‘k’, \"black\"    blacK\n",
      "          ‘r’, \"red\"      Red\n",
      "          ‘g’, \"green\"    Green\n",
      "          ‘b’, \"blue\"     Blue\n",
      "          ‘y’, \"yellow\"   Yellow\n",
      "          ‘m’,            Magenta\n",
      "          \"magenta\"\n",
      "          ‘c’, \"cyan\"     Cyan\n",
      "          ‘w’, \"white\"    White\n",
      "\n",
      "     \";displayname;\"\n",
      "          The text between semicolons is used to set the \"displayname\"\n",
      "          property which determines the label used for the plot legend.\n",
      "\n",
      "     The FMT argument may also be used to assign legend labels.  To do\n",
      "     so, include the desired label between semicolons after the\n",
      "     formatting sequence described above, e.g., \"+b;Data Series 3;\".\n",
      "     Note that the last semicolon is required and Octave will generate\n",
      "     an error if it is left out.\n",
      "\n",
      "     Here are some plot examples:\n",
      "\n",
      "          plot (x, y, \"or\", x, y2, x, y3, \"m\", x, y4, \"+\")\n",
      "\n",
      "     This command will plot ‘y’ with red circles, ‘y2’ with solid lines,\n",
      "     ‘y3’ with solid magenta lines, and ‘y4’ with points displayed as\n",
      "     ‘+’.\n",
      "\n",
      "          plot (b, \"*\", \"markersize\", 10)\n",
      "\n",
      "     This command will plot the data in the variable ‘b’, with points\n",
      "     displayed as ‘*’ and a marker size of 10.\n",
      "\n",
      "          t = 0:0.1:6.3;\n",
      "          plot (t, cos(t), \"-;cos(t);\", t, sin(t), \"-b;sin(t);\");\n",
      "\n",
      "     This will plot the cosine and sine functions and label them\n",
      "     accordingly in the legend.\n",
      "\n",
      "     If the first argument HAX is an axes handle, then plot into this\n",
      "     axes, rather than the current axes returned by ‘gca’.\n",
      "\n",
      "     The optional return value H is a vector of graphics handles to the\n",
      "     created line objects.\n",
      "\n",
      "     To save a plot, in one of several image formats such as PostScript\n",
      "     or PNG, use the ‘print’ command.\n",
      "\n",
      "     See also: axis, box, grid, hold, legend, title, xlabel, ylabel,\n",
      "     xlim, ylim, ezplot, errorbar, fplot, line, plot3, polar, loglog,\n",
      "     semilogx, semilogy, subplot.\n",
      "\n",
      "Additional help for built-in functions and operators is\n",
      "available in the online version of the manual.  Use the command\n",
      "'doc <topic>' to search the manual index.\n",
      "\n",
      "Help and information about Octave is also available on the WWW\n",
      "at https://www.octave.org and via the help@octave.org\n",
      "mailing list.\n",
      "\u001b[?2004h"
     ]
    }
   ],
   "source": [
    "disp('help command');\n",
    "help plot;"
   ]
  },
  {
   "cell_type": "markdown",
   "id": "b2e1c010-a9f9-470e-b081-80a74332c408",
   "metadata": {},
   "source": [
    "# Basic Operations and Concepts\n",
    "\n",
    "## Arithmetic Operations\n",
    "\n",
    "You can perform standard arithmetic operations directly in the command window.\n",
    "\n",
    "- Addition: `10 + 5`"
   ]
  },
  {
   "cell_type": "code",
   "execution_count": 3,
   "id": "963d2300-c9d3-4174-b8eb-b9a09edf999f",
   "metadata": {},
   "outputs": [
    {
     "name": "stdout",
     "output_type": "stream",
     "text": [
      "\u001b[?2004l\n",
      "ans = 15\n",
      "\u001b[?2004h"
     ]
    }
   ],
   "source": [
    "10 + 5"
   ]
  },
  {
   "cell_type": "markdown",
   "id": "3323ca3a-2bfe-4a96-907b-788998bf3ba6",
   "metadata": {},
   "source": [
    "- Subtraction: `10 - 5`"
   ]
  },
  {
   "cell_type": "code",
   "execution_count": 5,
   "id": "7fb5c802-3ce1-4afa-9156-81bf09de446c",
   "metadata": {},
   "outputs": [
    {
     "name": "stdout",
     "output_type": "stream",
     "text": [
      "\u001b[?2004l\n",
      "ans = 5\n",
      "\u001b[?2004h"
     ]
    }
   ],
   "source": [
    "10 - 5"
   ]
  },
  {
   "cell_type": "markdown",
   "id": "f0f6e591-13be-4942-bf1e-729a0ed6f10b",
   "metadata": {},
   "source": [
    "- Multiplication: `10 * 5`"
   ]
  },
  {
   "cell_type": "code",
   "execution_count": 6,
   "id": "ffd9f3f0-d07d-4460-9b45-57ba10a2c234",
   "metadata": {},
   "outputs": [
    {
     "name": "stdout",
     "output_type": "stream",
     "text": [
      "\u001b[?2004l\n",
      "ans = 50\n",
      "\u001b[?2004h"
     ]
    }
   ],
   "source": [
    "10 * 5"
   ]
  },
  {
   "cell_type": "markdown",
   "id": "35ecaac6-2dba-4e8d-89ae-6a638b110ce2",
   "metadata": {},
   "source": [
    "- Division: `10 / 5`"
   ]
  },
  {
   "cell_type": "code",
   "execution_count": 7,
   "id": "efa150ce-62e6-4e38-9f35-9f5c1f853cb4",
   "metadata": {},
   "outputs": [
    {
     "name": "stdout",
     "output_type": "stream",
     "text": [
      "\u001b[?2004l\n",
      "ans = 2\n",
      "\u001b[?2004h"
     ]
    }
   ],
   "source": [
    "10 / 5"
   ]
  },
  {
   "cell_type": "markdown",
   "id": "8fc91fbc-2955-4242-bfef-33bd7a5bf750",
   "metadata": {},
   "source": [
    "- Exponentiation: `4^2`"
   ]
  },
  {
   "cell_type": "code",
   "execution_count": 8,
   "id": "2685116c-e73a-4e9d-8c7c-baeeeabc1f7b",
   "metadata": {},
   "outputs": [
    {
     "name": "stdout",
     "output_type": "stream",
     "text": [
      "\u001b[?2004l\n",
      "ans = 16\n",
      "\u001b[?2004h"
     ]
    }
   ],
   "source": [
    "4 ^ 2"
   ]
  },
  {
   "cell_type": "markdown",
   "id": "f78d3602-b049-4c4d-9a27-a1220058105d",
   "metadata": {},
   "source": [
    "- Square Root: `sqrt(ans)`"
   ]
  },
  {
   "cell_type": "code",
   "execution_count": 10,
   "id": "2d1f1232-e63d-4b34-b6f3-cf04bd83de1e",
   "metadata": {},
   "outputs": [
    {
     "name": "stdout",
     "output_type": "stream",
     "text": [
      "\u001b[?2004l\n",
      "ans = 4\n",
      "\u001b[?2004h"
     ]
    }
   ],
   "source": [
    "sqrt(4^2)"
   ]
  },
  {
   "cell_type": "markdown",
   "id": "c5d2a9bb-2bb9-4fa3-962e-a99ff3c5c6b9",
   "metadata": {},
   "source": [
    "## Using Variables\n",
    "\n",
    "When you perform an operation without assigning it to a variable, the result is stored in a temporary variable called `ans` (If you have wondered why above there is an `ans = ` output in all cells). Only the result of the very last operation is saved. To avoid this and save results, you should assign them to variables.\n",
    "\n",
    "```matlab\n",
    "a = 10;\n",
    "b = 5;\n",
    "c = a + b\n",
    "d = a - b\n",
    "e = a * b\n",
    "f = a / b\n",
    "```\n",
    "\n",
    "To prevent a command's output from being displayed in the command window, add a semicolon (;) to the end of the line."
   ]
  },
  {
   "cell_type": "code",
   "execution_count": 11,
   "id": "27360b5f-4d9d-4b1c-9051-d1c2a5bd6cd2",
   "metadata": {},
   "outputs": [
    {
     "name": "stdout",
     "output_type": "stream",
     "text": [
      "\u001b[?2004l\n",
      "\u001b[?2004h\u001b[?2004l\n",
      "\u001b[?2004h\u001b[?2004l\n",
      "c = 15\n",
      "\u001b[?2004h\u001b[?2004l\n",
      "d = 5\n",
      "\u001b[?2004h\u001b[?2004l\n",
      "e = 50\n",
      "\u001b[?2004h\u001b[?2004l\n",
      "f = 2\n",
      "\u001b[?2004h"
     ]
    }
   ],
   "source": [
    "a = 10;\n",
    "b = 5;\n",
    "c = a + b\n",
    "d = a - b\n",
    "e = a * b\n",
    "f = a / b"
   ]
  },
  {
   "cell_type": "markdown",
   "id": "ac0f8f8b-d5b5-435a-92c5-5d06d89b3085",
   "metadata": {},
   "source": [
    "Note that the values of all variables other than `a` and `b` were printed out, because we did not add the semicolon (;) at the end. You can modify the lines above and rerun the cell to check what happens."
   ]
  },
  {
   "cell_type": "markdown",
   "id": "844993ea-959f-4c2e-b568-412166b8ee0d",
   "metadata": {},
   "source": [
    "## Floating Point Display\n",
    "\n",
    "MATLAB's default display for numbers is 5 digits (short format). You can change this using the `format` command.\n",
    "\n",
    "- `format long`: Displays 15 digits.\n",
    "- `format short`: Resets to the default 5-digit display.\n",
    "- `format rat`: Displays numbers as rational fractions.\n"
   ]
  },
  {
   "cell_type": "code",
   "execution_count": 12,
   "id": "992a2467-f59e-45f7-a00c-a0cf90e722fc",
   "metadata": {},
   "outputs": [
    {
     "name": "stdout",
     "output_type": "stream",
     "text": [
      "\u001b[?2004l\n",
      "\u001b[?2004h\u001b[?2004l\n",
      "\u001b[?2004h\u001b[?2004l\n",
      "1.414213562373095\n",
      "\u001b[?2004h"
     ]
    }
   ],
   "source": [
    "# Long Format\n",
    "format long;\n",
    "disp(sqrt(2));"
   ]
  },
  {
   "cell_type": "code",
   "execution_count": 18,
   "id": "db2f1454-80df-4b41-b8d4-a9a0c580517b",
   "metadata": {},
   "outputs": [
    {
     "name": "stdout",
     "output_type": "stream",
     "text": [
      "\u001b[?2004l\n",
      "\u001b[?2004h\u001b[?2004l\n",
      "\u001b[?2004h\u001b[?2004l\n",
      "1.4142\n",
      "\u001b[?2004h"
     ]
    }
   ],
   "source": [
    "# Short (default) format\n",
    "format short;\n",
    "disp(sqrt(2));"
   ]
  },
  {
   "cell_type": "code",
   "execution_count": 19,
   "id": "b5e477da-608e-4773-b1f0-c63cf7660007",
   "metadata": {},
   "outputs": [
    {
     "name": "stdout",
     "output_type": "stream",
     "text": [
      "\u001b[?2004l\n",
      "\u001b[?2004h\u001b[?2004l\n",
      "\u001b[?2004h\u001b[?2004l\n",
      "8119/5741\n",
      "\u001b[?2004h\u001b[?2004l\n",
      "\u001b[?2004h"
     ]
    }
   ],
   "source": [
    "# Rational fractions format\n",
    "format rat;\n",
    "disp(sqrt(2));\n",
    "# Remember that sqrt(2) is not a rational number so this is only an approximation"
   ]
  },
  {
   "cell_type": "code",
   "execution_count": 20,
   "id": "8029b6d3-c3e8-405b-a875-8efaca5573e9",
   "metadata": {},
   "outputs": [
    {
     "name": "stdout",
     "output_type": "stream",
     "text": [
      "\u001b[?2004l\n",
      "\u001b[?2004h\u001b[?2004l\n",
      "\u001b[?2004h"
     ]
    }
   ],
   "source": [
    "# Reset the format to the default\n",
    "format short;"
   ]
  },
  {
   "cell_type": "markdown",
   "id": "d1339793-9af7-4bd5-af11-26dc5e38f6ea",
   "metadata": {},
   "source": [
    "## Scientific Notation\n",
    "\n",
    "You can express numbers using scientific notation with the letter 'e'.\n",
    "\n",
    "- `4.5 * 10^9` is written as `4.5e9`.\n",
    "- `3.123 * 10^-7` is written as `3.123e-7`."
   ]
  },
  {
   "cell_type": "code",
   "execution_count": 22,
   "id": "5421ca90-3f06-4274-b9bb-67471b9c1904",
   "metadata": {},
   "outputs": [
    {
     "name": "stdout",
     "output_type": "stream",
     "text": [
      "\u001b[?2004l\n",
      "4.5000e+09\n",
      "\u001b[?2004h\u001b[?2004l\n",
      "4.5000e+09\n",
      "\u001b[?2004h"
     ]
    }
   ],
   "source": [
    "disp(4.5 * 10^9)\n",
    "disp(4.5e9)"
   ]
  },
  {
   "cell_type": "code",
   "execution_count": 23,
   "id": "c5866623-7c5c-47f9-b5d2-9a3185557b9e",
   "metadata": {},
   "outputs": [
    {
     "name": "stdout",
     "output_type": "stream",
     "text": [
      "\u001b[?2004l\n",
      "3.1230e-07\n",
      "\u001b[?2004h\u001b[?2004l\n",
      "3.1230e-07\n",
      "\u001b[?2004h"
     ]
    }
   ],
   "source": [
    "disp(3.123 * 10^-7)\n",
    "disp(3.123e-7)"
   ]
  }
 ],
 "metadata": {
  "kernelspec": {
   "display_name": "Octave",
   "language": "octave",
   "name": "octave"
  },
  "language_info": {
   "file_extension": ".m",
   "help_links": [
    {
     "text": "GNU Octave",
     "url": "https://www.gnu.org/software/octave/support.html"
    },
    {
     "text": "Octave Kernel",
     "url": "https://github.com/Calysto/octave_kernel"
    },
    {
     "text": "MetaKernel Magics",
     "url": "https://metakernel.readthedocs.io/en/latest/source/README.html"
    }
   ],
   "mimetype": "text/x-octave",
   "name": "octave",
   "version": "9.4.0"
  }
 },
 "nbformat": 4,
 "nbformat_minor": 5
}
